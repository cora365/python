{
  "nbformat": 4,
  "nbformat_minor": 0,
  "metadata": {
    "colab": {
      "name": "조건제어반복:while구조ipynb",
      "provenance": [],
      "authorship_tag": "ABX9TyP9x7oxtrC91SsMRKCvdi0R",
      "include_colab_link": true
    },
    "kernelspec": {
      "name": "python3",
      "display_name": "Python 3"
    },
    "language_info": {
      "name": "python"
    }
  },
  "cells": [
    {
      "cell_type": "markdown",
      "metadata": {
        "id": "view-in-github",
        "colab_type": "text"
      },
      "source": [
        "<a href=\"https://colab.research.google.com/github/cora365/python/blob/main/%EC%A1%B0%EA%B1%B4%EC%A0%9C%EC%96%B4%EB%B0%98%EB%B3%B5_while%EA%B5%AC%EC%A1%B0ipynb.ipynb\" target=\"_parent\"><img src=\"https://colab.research.google.com/assets/colab-badge.svg\" alt=\"Open In Colab\"/></a>"
      ]
    },
    {
      "cell_type": "code",
      "execution_count": null,
      "metadata": {
        "id": "q5iMLFtnOtQp"
      },
      "outputs": [],
      "source": [
        "for i in range(1,6):\n",
        "  print(i)"
      ]
    },
    {
      "cell_type": "code",
      "source": [
        "n=1\n",
        "while n<=5:\n",
        "  print(n)\n",
        "  n+=1"
      ],
      "metadata": {
        "colab": {
          "base_uri": "https://localhost:8080/"
        },
        "id": "OyZHaZwJO6XD",
        "outputId": "600cd266-3f39-4c91-fba8-e862d73d7f00"
      },
      "execution_count": null,
      "outputs": [
        {
          "output_type": "stream",
          "name": "stdout",
          "text": [
            "1\n",
            "2\n",
            "3\n",
            "4\n",
            "5\n"
          ]
        }
      ]
    },
    {
      "cell_type": "code",
      "source": [
        "## 1부터 10까지 더하기\n",
        "sum=0\n",
        "for i in range(1,11):\n",
        "  sum+=i\n",
        "print(sum)\n",
        "\n"
      ],
      "metadata": {
        "colab": {
          "base_uri": "https://localhost:8080/"
        },
        "id": "uZjGVKvJQEmV",
        "outputId": "7ce1311e-92de-4951-fe3b-097e730f4524"
      },
      "execution_count": null,
      "outputs": [
        {
          "output_type": "stream",
          "name": "stdout",
          "text": [
            "55\n"
          ]
        }
      ]
    },
    {
      "cell_type": "code",
      "source": [
        "total=0\n",
        "num=1\n",
        "while num<=10:\n",
        "  total+=num\n",
        "  num+=1\n",
        "print(total)\n",
        "  "
      ],
      "metadata": {
        "colab": {
          "base_uri": "https://localhost:8080/"
        },
        "id": "amdetebxRjA3",
        "outputId": "561cf18c-71af-45b4-c185-44ac73919707"
      },
      "execution_count": null,
      "outputs": [
        {
          "output_type": "stream",
          "name": "stdout",
          "text": [
            "55\n"
          ]
        }
      ]
    },
    {
      "cell_type": "code",
      "source": [
        "##while문만 가능한 경우 : 'q'를 입력할 때까지 반복하여 이름 입력받기\n",
        "## 반복횟수를 모를 때 사용\n",
        "\n",
        "name=input('이름 :')\n",
        "while name!='q':\n",
        "  name=input('이름 : ')"
      ],
      "metadata": {
        "colab": {
          "base_uri": "https://localhost:8080/"
        },
        "id": "EItA-c91QcBq",
        "outputId": "8b11a6b7-c2c3-401a-81f1-1b6cea4da6ab"
      },
      "execution_count": null,
      "outputs": [
        {
          "name": "stdout",
          "output_type": "stream",
          "text": [
            "이름 :a\n",
            "이름 : v\n",
            "이름 : d\n",
            "이름 : q\n"
          ]
        }
      ]
    },
    {
      "cell_type": "code",
      "source": [
        "##조건문 빠져나오기 : break\n",
        "while True:\n",
        "  name=input('이름 :')\n",
        "  if name=='q':\n",
        "    break"
      ],
      "metadata": {
        "colab": {
          "base_uri": "https://localhost:8080/"
        },
        "id": "nfySFR1SSPpI",
        "outputId": "70cc055c-1d54-49b6-d054-56ba4352457e"
      },
      "execution_count": null,
      "outputs": [
        {
          "name": "stdout",
          "output_type": "stream",
          "text": [
            "이름 :a\n",
            "이름 :d\n",
            "이름 :g\n",
            "이름 :q\n"
          ]
        }
      ]
    },
    {
      "cell_type": "code",
      "source": [
        "## 연습문제 : 올바른 아이디/비밀번호를 입력할 때까지 아이디와 비밀번호를 입력하는 프로그램 만들기\n",
        "##올바른 아이디와 비밀번호 : id='id123', pw='pw123'\n",
        "id='id123'\n",
        "pw='pw123'\n",
        "while True:\n",
        "  input_id = input('id : ')\n",
        "  input_pw = input('pw : ')\n",
        "  if id==input_id and pw == input_pw:\n",
        "    break"
      ],
      "metadata": {
        "colab": {
          "base_uri": "https://localhost:8080/"
        },
        "id": "0YRoPy0wSh3d",
        "outputId": "96afd9dc-5617-49a0-c27f-26459c827bb5"
      },
      "execution_count": null,
      "outputs": [
        {
          "name": "stdout",
          "output_type": "stream",
          "text": [
            "id : id123\n",
            "pw : id123\n",
            "id : id123\n",
            "pw : pw123\n"
          ]
        }
      ]
    },
    {
      "cell_type": "code",
      "source": [
        "##확장하기. 잘못되었으면 확인하세요 출력\n",
        "id='id123'\n",
        "pw='pw123'\n",
        "while True:\n",
        "  input_id = input('id : ')  \n",
        "  input_pw = input('pw : ')\n",
        "  if id==input_id and pw == input_pw:\n",
        "    break\n",
        "  if id!=input_id:\n",
        "    print(\"id를 확인하세요\") \n",
        "  if pw!=input_pw:\n",
        "    print(\"pw를 확인하세요\")"
      ],
      "metadata": {
        "colab": {
          "base_uri": "https://localhost:8080/"
        },
        "id": "_d_thW9FTSls",
        "outputId": "41318bf8-1fd7-43db-bf68-9ffe1a0599c7"
      },
      "execution_count": null,
      "outputs": [
        {
          "name": "stdout",
          "output_type": "stream",
          "text": [
            "id : id1111\n",
            "pw : pw1111\n",
            "id를 확인하세요\n",
            "pw를 확인하세요\n",
            "id : id123\n",
            "pw : pw123\n"
          ]
        }
      ]
    },
    {
      "cell_type": "code",
      "source": [
        "##'0'이 입력될 때 까지 숫자를 받아 입력받은 수의 합을 구하는 프로그램\n",
        "\n",
        "sum=0\n",
        "while True:\n",
        "  num=int(input('숫자를 입력해주세요 : '))\n",
        "  if num==0:\n",
        "    break\n",
        "  sum+=num\n",
        "print('합계 : ',sum)"
      ],
      "metadata": {
        "id": "wv7_MkflUPSy",
        "colab": {
          "base_uri": "https://localhost:8080/"
        },
        "outputId": "faf78df5-5372-4844-88f5-901e28b91be8"
      },
      "execution_count": null,
      "outputs": [
        {
          "output_type": "stream",
          "name": "stdout",
          "text": [
            "숫자를 입력해주세요 : 7\n",
            "숫자를 입력해주세요 : 8\n",
            "숫자를 입력해주세요 : 0\n",
            "합계 :  15\n"
          ]
        }
      ]
    },
    {
      "cell_type": "code",
      "source": [
        "80\n"
      ],
      "metadata": {
        "id": "z_80s1RSvtTx"
      },
      "execution_count": null,
      "outputs": []
    }
  ]
}