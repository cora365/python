{
  "nbformat": 4,
  "nbformat_minor": 0,
  "metadata": {
    "colab": {
      "name": "반복문_for",
      "provenance": [],
      "authorship_tag": "ABX9TyM+BWc3iSBoBayD/F5SbrP6",
      "include_colab_link": true
    },
    "kernelspec": {
      "name": "python3",
      "display_name": "Python 3"
    },
    "language_info": {
      "name": "python"
    }
  },
  "cells": [
    {
      "cell_type": "markdown",
      "metadata": {
        "id": "view-in-github",
        "colab_type": "text"
      },
      "source": [
        "<a href=\"https://colab.research.google.com/github/cora365/python/blob/main/%EB%B0%98%EB%B3%B5%EB%AC%B8_for.ipynb\" target=\"_parent\"><img src=\"https://colab.research.google.com/assets/colab-badge.svg\" alt=\"Open In Colab\"/></a>"
      ]
    },
    {
      "cell_type": "code",
      "execution_count": null,
      "metadata": {
        "id": "RQirg1psXY6G"
      },
      "outputs": [],
      "source": [
        ""
      ]
    },
    {
      "cell_type": "markdown",
      "source": [
        "#반복문 1_for"
      ],
      "metadata": {
        "id": "_fgAo6RHXaBT"
      }
    },
    {
      "cell_type": "code",
      "source": [
        "#반복의 횟수가 정해져있음\n",
        "# for 제어변수 in 시퀀스:\n",
        "#    명령문\n",
        "# 시퀀스: 여러값이 연속적으로 이어진 자료형\n",
        "\n",
        "for i in[1,2,3,4,5]:\n",
        "  print(i)"
      ],
      "metadata": {
        "colab": {
          "base_uri": "https://localhost:8080/"
        },
        "id": "7uxn_6jlXhjt",
        "outputId": "7f548d05-aeb1-4aa6-9429-3048c3f9590c"
      },
      "execution_count": null,
      "outputs": [
        {
          "output_type": "stream",
          "name": "stdout",
          "text": [
            "1\n",
            "2\n",
            "3\n",
            "4\n",
            "5\n"
          ]
        }
      ]
    },
    {
      "cell_type": "code",
      "source": [
        "a='hello'\n",
        "for i in [1,2,3,4,5]:\n",
        "  print(a*i)"
      ],
      "metadata": {
        "colab": {
          "base_uri": "https://localhost:8080/"
        },
        "id": "pZzsXKLeXnQz",
        "outputId": "c737b784-8ad5-456c-8bf5-dc5468f29cba"
      },
      "execution_count": null,
      "outputs": [
        {
          "output_type": "stream",
          "name": "stdout",
          "text": [
            "hello\n",
            "hellohello\n",
            "hellohellohello\n",
            "hellohellohellohello\n",
            "hellohellohellohellohello\n"
          ]
        }
      ]
    },
    {
      "cell_type": "code",
      "source": [
        "for i in 'hello':\n",
        "  print(i)"
      ],
      "metadata": {
        "colab": {
          "base_uri": "https://localhost:8080/"
        },
        "id": "HZUCQsEdYtQ0",
        "outputId": "3ce0ad55-4bd4-4fbe-efb9-e87b750ac809"
      },
      "execution_count": null,
      "outputs": [
        {
          "output_type": "stream",
          "name": "stdout",
          "text": [
            "h\n",
            "e\n",
            "l\n",
            "l\n",
            "o\n"
          ]
        }
      ]
    },
    {
      "cell_type": "code",
      "source": [
        "for i in range(5):\n",
        "  print(i)"
      ],
      "metadata": {
        "colab": {
          "base_uri": "https://localhost:8080/"
        },
        "id": "uhFG2NANY1HD",
        "outputId": "43a421d3-d223-4964-e796-76442b0e3088"
      },
      "execution_count": null,
      "outputs": [
        {
          "output_type": "stream",
          "name": "stdout",
          "text": [
            "0\n",
            "1\n",
            "2\n",
            "3\n",
            "4\n"
          ]
        }
      ]
    },
    {
      "cell_type": "code",
      "source": [
        "for i in range(10):\n",
        "  print(\"hello\")"
      ],
      "metadata": {
        "colab": {
          "base_uri": "https://localhost:8080/"
        },
        "id": "52RZHqcEY8Ng",
        "outputId": "138b0c2e-ae8d-4f3a-ed2e-2b6082ee5992"
      },
      "execution_count": null,
      "outputs": [
        {
          "output_type": "stream",
          "name": "stdout",
          "text": [
            "hello\n",
            "hello\n",
            "hello\n",
            "hello\n",
            "hello\n",
            "hello\n",
            "hello\n",
            "hello\n",
            "hello\n",
            "hello\n"
          ]
        }
      ]
    },
    {
      "cell_type": "markdown",
      "source": [
        "\n",
        "#range()함수\n",
        "  -일정한 범위의 정수를 생성한다.\n",
        "\n",
        "  range([initial_value,]final_value[, step])\n",
        "\n",
        "\n",
        "\n"
      ],
      "metadata": {
        "id": "zyDYFn-IZOWj"
      }
    }
  ]
}