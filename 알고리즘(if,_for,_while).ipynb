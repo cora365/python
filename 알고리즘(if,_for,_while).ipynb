{
  "nbformat": 4,
  "nbformat_minor": 0,
  "metadata": {
    "colab": {
      "name": "알고리즘(if, for, while).ipynb",
      "provenance": [],
      "authorship_tag": "ABX9TyOwCwLy0wvm7Ry9MyIffcRe",
      "include_colab_link": true
    },
    "kernelspec": {
      "name": "python3",
      "display_name": "Python 3"
    },
    "language_info": {
      "name": "python"
    }
  },
  "cells": [
    {
      "cell_type": "markdown",
      "metadata": {
        "id": "view-in-github",
        "colab_type": "text"
      },
      "source": [
        "<a href=\"https://colab.research.google.com/github/cora365/python/blob/main/%EC%95%8C%EA%B3%A0%EB%A6%AC%EC%A6%98(if%2C_for%2C_while).ipynb\" target=\"_parent\"><img src=\"https://colab.research.google.com/assets/colab-badge.svg\" alt=\"Open In Colab\"/></a>"
      ]
    },
    {
      "cell_type": "markdown",
      "source": [
        "## up&down 숫자맞추기 게임\n",
        "1~100까지 사이의 정답 숫자를 랜덤으로 하나 정하고, 정답 숫자를 마줄 때까지 숫자를 입력하는 게임\n",
        "\n",
        "\n"
      ],
      "metadata": {
        "id": "Ih8qoh9GxtA-"
      }
    },
    {
      "cell_type": "code",
      "source": [
        "#정답숫자 생성\n",
        "import random\n",
        "num=random.randrange(1,101)\n",
        "print(num)\n",
        "count=0\n",
        "#정답을 맞출 때까지 반복\n",
        "while True:\n",
        "  count+=1\n",
        "  if count>5:\n",
        "    print('땡!! 정답은 ',num,'입니다.')\n",
        "    break\n",
        "  ans=int(input('1~100사이 숫자를 입력해주세요 : '))\n",
        "  if num==ans: \n",
        "    print('정답입니다!!',count,'번만에 맞췄습니다.')\n",
        "    break\n",
        "  if num<ans:\n",
        "    print(\"down please~\")\n",
        "  else:\n",
        "    print(\"up please~\")\n",
        "\n",
        "\n"
      ],
      "metadata": {
        "colab": {
          "base_uri": "https://localhost:8080/"
        },
        "id": "0aRkq8I2xxZx",
        "outputId": "935d1927-39b2-47f6-ecad-5ce002de4872"
      },
      "execution_count": null,
      "outputs": [
        {
          "output_type": "stream",
          "name": "stdout",
          "text": [
            "27\n",
            "1~100사이 숫자를 입력해주세요 : 50\n",
            "down please~\n",
            "1~100사이 숫자를 입력해주세요 : 40\n",
            "down please~\n",
            "1~100사이 숫자를 입력해주세요 : 30\n",
            "down please~\n",
            "1~100사이 숫자를 입력해주세요 : 20\n",
            "up please~\n",
            "1~100사이 숫자를 입력해주세요 : 25\n",
            "up please~\n",
            "1~100사이 숫자를 입력해주세요 : 28\n",
            "down please~\n",
            "땡!! 정답은  27 입니다.\n"
          ]
        }
      ]
    },
    {
      "cell_type": "markdown",
      "source": [
        "##사칙연산 프로그램\n",
        "두 수와 사칙연산기호 입력받아 연산 기호에 따라 연산결과를 출력\n",
        "사칙연산이 아닌경우 경고문구 출력"
      ],
      "metadata": {
        "id": "PhkUQrT43Qg7"
      }
    },
    {
      "cell_type": "code",
      "source": [
        "num1=(int(input('숫자 1 :')))\n",
        "num2=(int(input('숫자 2 :')))\n",
        "sign=input('연산기호 :')\n",
        "if sign=='+':\n",
        "  print(num1,'+',num2,'=',num1+num2)\n",
        "if sign=='-':\n",
        "  print(f{num1}-{num2}={num1-num2})\n",
        "if sign=='*':\n",
        "  print(f{num1}*{num2}={num1*num2})\n",
        "if sign=='/':\n",
        "  print(num1,'/',num2,'=',num1/num2)\n",
        "else:\n",
        "  print(\"잘못 입력하셨습니다.\")"
      ],
      "metadata": {
        "colab": {
          "base_uri": "https://localhost:8080/"
        },
        "id": "1xYGg0sAzRZE",
        "outputId": "b41ddfee-9438-41bb-aa8c-886d8ed96c16"
      },
      "execution_count": null,
      "outputs": [
        {
          "output_type": "stream",
          "name": "stdout",
          "text": [
            "숫자 1 :7\n",
            "숫자 2 :8\n",
            "연산기호 :+\n",
            "7 + 8 = 15\n"
          ]
        }
      ]
    },
    {
      "cell_type": "markdown",
      "source": [
        "## 할인된 금액 계산\n",
        "-물건 구매가를 입력받고 금액에 따른 할인율을 계산하여 구매가, 할인율, 할인금액, 지불금액을 출력하라"
      ],
      "metadata": {
        "id": "Ihbm_ojT5d2q"
      }
    },
    {
      "cell_type": "code",
      "source": [
        "price = int(input('물건 구매가 :'))\n",
        "if price>=100000:\n",
        "  dc=10\n",
        "elif price>=50000:\n",
        "  dc=7\n",
        "elif price>=10000:\n",
        "  dc=5\n",
        "else:\n",
        "  dc=0\n",
        "print(f'''\n",
        "구매가 :{price}\n",
        "할인율 :{dc}\n",
        "할인금액 :{price*dc/100}\n",
        "지불금액 : {price-price*dc/100}\n",
        "''')"
      ],
      "metadata": {
        "colab": {
          "base_uri": "https://localhost:8080/"
        },
        "id": "ym8nZ82q5rlI",
        "outputId": "87ee0311-e593-496c-98c9-e001754f797b"
      },
      "execution_count": null,
      "outputs": [
        {
          "output_type": "stream",
          "name": "stdout",
          "text": [
            "물건 구매가 :3000\n",
            "\n",
            "구매가 :3000\n",
            "할인율 :0\n",
            "할인금액 :0.0\n",
            "지불금액 : 3000.0\n",
            "\n"
          ]
        }
      ]
    },
    {
      "cell_type": "code",
      "source": [
        ""
      ],
      "metadata": {
        "id": "bNjaLSXN7kzT"
      },
      "execution_count": null,
      "outputs": []
    }
  ]
}