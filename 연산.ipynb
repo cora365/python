{
  "nbformat": 4,
  "nbformat_minor": 0,
  "metadata": {
    "colab": {
      "name": "연산",
      "provenance": [],
      "authorship_tag": "ABX9TyMewoP+kuX9qUwD8TiCs0mr",
      "include_colab_link": true
    },
    "kernelspec": {
      "name": "python3",
      "display_name": "Python 3"
    },
    "language_info": {
      "name": "python"
    }
  },
  "cells": [
    {
      "cell_type": "markdown",
      "metadata": {
        "id": "view-in-github",
        "colab_type": "text"
      },
      "source": [
        "<a href=\"https://colab.research.google.com/github/cora365/python/blob/main/%EC%97%B0%EC%82%B0.ipynb\" target=\"_parent\"><img src=\"https://colab.research.google.com/assets/colab-badge.svg\" alt=\"Open In Colab\"/></a>"
      ]
    },
    {
      "cell_type": "code",
      "execution_count": null,
      "metadata": {
        "colab": {
          "base_uri": "https://localhost:8080/",
          "height": 35
        },
        "id": "AiXNH-4e8O-k",
        "outputId": "a1f78a21-f905-4d52-aa5c-35194886913c"
      },
      "outputs": [
        {
          "output_type": "execute_result",
          "data": {
            "application/vnd.google.colaboratory.intrinsic+json": {
              "type": "string"
            },
            "text/plain": [
              "'hahaha'"
            ]
          },
          "metadata": {},
          "execution_count": 3
        }
      ],
      "source": [
        "a='ha'\n",
        "a*3\n",
        "#print(a)"
      ]
    },
    {
      "cell_type": "code",
      "source": [
        "a=b=c=1\n",
        "print(a,b,c)"
      ],
      "metadata": {
        "colab": {
          "base_uri": "https://localhost:8080/"
        },
        "id": "V7ubsCyN9GWv",
        "outputId": "c3b33c96-f67b-4afc-93ac-ba790da2b0d9"
      },
      "execution_count": null,
      "outputs": [
        {
          "output_type": "stream",
          "name": "stdout",
          "text": [
            "1 1 1\n"
          ]
        }
      ]
    },
    {
      "cell_type": "code",
      "source": [
        "a,b,c=1,2,3\n",
        "print(a,b,c)"
      ],
      "metadata": {
        "colab": {
          "base_uri": "https://localhost:8080/"
        },
        "id": "GwcsBiS99o5S",
        "outputId": "4b71554c-79e8-42ee-94a6-9d1b5b736672"
      },
      "execution_count": null,
      "outputs": [
        {
          "output_type": "stream",
          "name": "stdout",
          "text": [
            "1 2 3\n"
          ]
        }
      ]
    },
    {
      "cell_type": "code",
      "source": [
        "x=10\n",
        "x+=20\n",
        "print(x)"
      ],
      "metadata": {
        "colab": {
          "base_uri": "https://localhost:8080/"
        },
        "id": "hFxK-nIY9yDI",
        "outputId": "a238c5b9-5948-4b62-b251-ba101f10d948"
      },
      "execution_count": null,
      "outputs": [
        {
          "output_type": "stream",
          "name": "stdout",
          "text": [
            "30\n"
          ]
        }
      ]
    },
    {
      "cell_type": "code",
      "source": [
        "a=3\n",
        "b=5\n",
        "c*=a+b\n",
        "print(c)"
      ],
      "metadata": {
        "colab": {
          "base_uri": "https://localhost:8080/"
        },
        "id": "OFE-97w7-GtT",
        "outputId": "8409a12c-3639-4ab4-b635-853573e0c7e1"
      },
      "execution_count": null,
      "outputs": [
        {
          "output_type": "stream",
          "name": "stdout",
          "text": [
            "192\n"
          ]
        }
      ]
    },
    {
      "cell_type": "markdown",
      "source": [
        "#f스트링으로 변수값 출력하기\n",
        "print(f'{변수명 1},{변수명2},출력할 내용')\n",
        " - 문장 사이에 변수값을 편리하게 출력할 수 있다. "
      ],
      "metadata": {
        "id": "XLLLPNcE-T9k"
      }
    },
    {
      "cell_type": "code",
      "source": [
        "name = input('이름')\n",
        "print(f'{name}님, 안녕하세요?')"
      ],
      "metadata": {
        "colab": {
          "base_uri": "https://localhost:8080/"
        },
        "id": "jfxks7bo-sfA",
        "outputId": "6b06124c-3172-4fbb-d397-7187ede608b0"
      },
      "execution_count": null,
      "outputs": [
        {
          "output_type": "stream",
          "name": "stdout",
          "text": [
            "이름이양득\n",
            "이양득님, 안녕하세요?\n"
          ]
        }
      ]
    },
    {
      "cell_type": "code",
      "source": [
        "age = int(input('나이 : '))\n",
        "name = input('이름 : ')\n",
        "print('안녕하세요~ 저는',name,'이구요, ' ,age,'살입니다.')\n",
        "print(f'안녕하세요! 저는{name}이고 {age}살입니다.')"
      ],
      "metadata": {
        "colab": {
          "base_uri": "https://localhost:8080/"
        },
        "id": "HrtDj96n_Enx",
        "outputId": "1d042277-8c41-4efe-a612-d410d228b414"
      },
      "execution_count": null,
      "outputs": [
        {
          "output_type": "stream",
          "name": "stdout",
          "text": [
            "나이 : 48\n",
            "이름 : 이양득\n",
            "안녕하세요~ 저는 이양득 이구요,  48 살입니다.\n",
            "안녕하세요! 저는이양득이고 48살입니다.\n"
          ]
        }
      ]
    },
    {
      "cell_type": "code",
      "source": [
        "a=int(input('처음 수 :'))\n",
        "b=int(input('다음 수 :'))\n",
        "print(f'{a}+{b}={a+b}')"
      ],
      "metadata": {
        "colab": {
          "base_uri": "https://localhost:8080/"
        },
        "id": "h_bdMPXA_lfL",
        "outputId": "f0666c27-5f1b-43c2-bc1f-4a34c55f49f5"
      },
      "execution_count": null,
      "outputs": [
        {
          "output_type": "stream",
          "name": "stdout",
          "text": [
            "처음 수 :4\n",
            "다음 수 :8\n",
            "4+8=12\n"
          ]
        }
      ]
    },
    {
      "cell_type": "markdown",
      "source": [
        "#연습문제\n",
        "화씨 온도를 입력받아 섭씨 온도로 변환하는 프로그램을 작성해보세요.\n",
        "\n",
        "   C = (F - 32)*5/9"
      ],
      "metadata": {
        "id": "xPsY0ClREges"
      }
    },
    {
      "cell_type": "code",
      "source": [
        "f=float(input('화씨온도 : '))\n",
        "c=(f-32)*(5/9)\n",
        "print (f'화씨온도{f}는 섭씨로 {c}도 입니다.')"
      ],
      "metadata": {
        "colab": {
          "base_uri": "https://localhost:8080/"
        },
        "id": "KmbdFgHQEiIn",
        "outputId": "d41ca23a-8441-4b6b-bd54-90007639db45"
      },
      "execution_count": null,
      "outputs": [
        {
          "output_type": "stream",
          "name": "stdout",
          "text": [
            "화씨온도 : 100\n",
            "화씨온도100.0는 섭씨로 37.77777777777778도 입니다.\n"
          ]
        }
      ]
    },
    {
      "cell_type": "code",
      "source": [
        ""
      ],
      "metadata": {
        "id": "gURZ14BDFW-5"
      },
      "execution_count": null,
      "outputs": []
    }
  ]
}